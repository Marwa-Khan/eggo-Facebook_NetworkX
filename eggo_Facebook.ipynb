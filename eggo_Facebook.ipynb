{
 "cells": [
  {
   "cell_type": "code",
   "execution_count": null,
   "metadata": {},
   "outputs": [],
   "source": [
    "import networkx as nx\n",
    "import matplotlib.pyplot as plt\n",
    "import numpy as np\n",
    "from collections import Counter\n",
    "import gzip"
   ]
  },
  {
   "cell_type": "code",
   "execution_count": null,
   "metadata": {},
   "outputs": [],
   "source": [
    "# Step 2: Load the Dataset\n",
    "file_path = \"facebook_combined.txt\"  \n",
    "G = nx.read_edgelist(file_path, create_using=nx.Graph(), nodetype=int)\n",
    "\n",
    "print(f\"Graph has {G.number_of_nodes()} nodes and {G.number_of_edges()} edges.\")"
   ]
  },
  {
   "cell_type": "code",
   "execution_count": null,
   "metadata": {},
   "outputs": [],
   "source": [
    "# Step 3: Part (a) - Calculate Centrality Measures and Display Distributions\n",
    "#1 Degree Centrality\n",
    "degree_centrality = nx.degree_centrality(G)\n",
    "degree_values = list(degree_centrality.values())\n",
    "\n",
    "plt.hist(degree_values, bins=50, color='blue', alpha=0.7)\n",
    "plt.title(\"Degree Centrality Distribution\")\n",
    "plt.xlabel(\"Degree Centrality\")\n",
    "plt.ylabel(\"Frequency\")\n",
    "plt.show()"
   ]
  },
  {
   "cell_type": "code",
   "execution_count": null,
   "metadata": {},
   "outputs": [],
   "source": [
    "# 2 Closeness Centrality\n",
    "closeness_centrality = nx.closeness_centrality(G)\n",
    "closeness_values = list(closeness_centrality.values())\n",
    "\n",
    "plt.hist(closeness_values, bins=50, color='green', alpha=0.7)\n",
    "plt.title(\"Closeness Centrality Distribution\")\n",
    "plt.xlabel(\"Closeness Centrality\")\n",
    "plt.ylabel(\"Frequency\")\n",
    "plt.show()"
   ]
  },
  {
   "cell_type": "code",
   "execution_count": null,
   "metadata": {},
   "outputs": [],
   "source": [
    "# iii Betweenness Centrality\n",
    "betweenness_centrality = nx.betweenness_centrality(G)\n",
    "betweenness_values = list(betweenness_centrality.values())\n",
    "\n",
    "plt.hist(betweenness_values, bins=50, color='red', alpha=0.7)\n",
    "plt.title(\"Betweenness Centrality Distribution\")\n",
    "plt.xlabel(\"Betweenness Centrality\")\n",
    "plt.ylabel(\"Frequency\")\n",
    "plt.show()"
   ]
  },
  {
   "cell_type": "code",
   "execution_count": null,
   "metadata": {},
   "outputs": [],
   "source": [
    "# Step 4: Part (b) - Shortest Distance Between Nodes with Highest and Second-Highest Centrality Scores\n",
    "# Helper Function to Find Top Two Nodes\n",
    "def get_top_two_nodes(centrality_dict):\n",
    "    sorted_nodes = sorted(centrality_dict.items(), key=lambda x: x[1], reverse=True)\n",
    "    return sorted_nodes[0][0], sorted_nodes[1][0]\n",
    "# Shortest Path for Degree Centrality\n",
    "top_node_deg, second_top_node_deg = get_top_two_nodes(degree_centrality)\n",
    "shortest_path_deg = nx.shortest_path_length(G, source=top_node_deg, target=second_top_node_deg)\n",
    "print(f\"Shortest path (Degree Centrality): {shortest_path_deg}\")"
   ]
  },
  {
   "cell_type": "code",
   "execution_count": null,
   "metadata": {},
   "outputs": [],
   "source": [
    "# Shortest Path for Closeness Centrality\n",
    "top_node_close, second_top_node_close = get_top_two_nodes(closeness_centrality)\n",
    "shortest_path_close = nx.shortest_path_length(G, source=top_node_close, target=second_top_node_close)\n",
    "print(f\"Shortest path (Closeness Centrality): {shortest_path_close}\")"
   ]
  },
  {
   "cell_type": "code",
   "execution_count": null,
   "metadata": {},
   "outputs": [],
   "source": [
    "# Shortest Path for Betweenness Centrality\n",
    "top_node_betw, second_top_node_betw = get_top_two_nodes(betweenness_centrality)\n",
    "shortest_path_betw = nx.shortest_path_length(G, source=top_node_betw, target=second_top_node_betw)\n",
    "print(f\"Shortest path (Betweenness Centrality): {shortest_path_betw}\")"
   ]
  },
  {
   "cell_type": "code",
   "execution_count": null,
   "metadata": {},
   "outputs": [],
   "source": [
    "# Step 5: Part (c) - Subgraph with Most Connected Nodes (Degree Centrality)\n",
    "k = 15  # Number of top nodes to include\n",
    "top_k_nodes = sorted(degree_centrality.items(), key=lambda x: x[1], reverse=True)[:k]\n",
    "top_k_nodes = [node for node, _ in top_k_nodes]\n",
    "\n",
    "# Create subgraph\n",
    "subgraph = G.subgraph(top_k_nodes)\n",
    "\n",
    "# Draw the subgraph\n",
    "pos = nx.spring_layout(subgraph)\n",
    "nx.draw(subgraph, pos, with_labels=True, node_color='orange', edge_color='gray')\n",
    "plt.title(\"Subgraph of Top-K Most Connected Nodes\")\n",
    "plt.show()"
   ]
  },
  {
   "cell_type": "code",
   "execution_count": null,
   "metadata": {},
   "outputs": [],
   "source": [
    "# Step 6: Part (d) - Local Clustering Coefficients and Shortest Distance\n",
    "clustering_coefficients = nx.clustering(G)\n",
    "clustering_values = list(clustering_coefficients.values())\n",
    "\n",
    "plt.hist(clustering_values, bins=50, color='purple', alpha=0.7)\n",
    "plt.title(\"Local Clustering Coefficient Distribution\")\n",
    "plt.xlabel(\"Clustering Coefficient\")\n",
    "plt.ylabel(\"Frequency\")\n",
    "plt.show()"
   ]
  },
  {
   "cell_type": "code",
   "execution_count": null,
   "metadata": {},
   "outputs": [],
   "source": [
    "# Find Top Two Nodes by Clustering Coefficient\n",
    "top_node_clust, second_top_node_clust = get_top_two_nodes(clustering_coefficients)\n",
    "shortest_path_clust = nx.shortest_path_length(G, source=top_node_clust, target=second_top_node_clust)\n",
    "print(f\"Shortest path (Clustering Coefficient): {shortest_path_clust}\")"
   ]
  },
  {
   "cell_type": "code",
   "execution_count": null,
   "metadata": {},
   "outputs": [],
   "source": [
    "# Step 7: Part (e) - Check for Power-Law Distribution\n",
    "from scipy.stats import powerlaw\n",
    "\n",
    "# Fit degree distribution to a power-law\n",
    "degrees = dict(G.degree()).values()\n",
    "degree_counts = Counter(degrees)\n",
    "degree_freq = np.array(list(degree_counts.values()))\n",
    "degree_values = np.array(list(degree_counts.keys()))\n",
    "\n",
    "# Normalize frequencies\n",
    "degree_freq = degree_freq / degree_freq.sum()\n",
    "\n",
    "# Fit power-law\n",
    "fit = powerlaw.fit(degree_values, floc=0)\n",
    "print(f\"Power-law fit parameters: {fit}\")\n",
    "\n",
    "# Plot degree distribution and fitted power-law\n",
    "plt.scatter(degree_values, degree_freq, color='blue', label=\"Empirical Data\")\n",
    "plt.plot(degree_values, powerlaw.pdf(degree_values, *fit), color='red', label=\"Power-law Fit\")\n",
    "plt.xscale('log')\n",
    "plt.yscale('log')\n",
    "plt.title(\"Degree Distribution and Power-Law Fit\")\n",
    "plt.xlabel(\"Degree\")\n",
    "plt.ylabel(\"Probability\")\n",
    "plt.legend()\n",
    "plt.show()"
   ]
  }
 ],
 "metadata": {
  "kernelspec": {
   "display_name": "Python (venv)",
   "language": "python",
   "name": "venv"
  },
  "language_info": {
   "codemirror_mode": {
    "name": "ipython",
    "version": 3
   },
   "file_extension": ".py",
   "mimetype": "text/x-python",
   "name": "python",
   "nbconvert_exporter": "python",
   "pygments_lexer": "ipython3",
   "version": "3.13.1"
  }
 },
 "nbformat": 4,
 "nbformat_minor": 2
}
